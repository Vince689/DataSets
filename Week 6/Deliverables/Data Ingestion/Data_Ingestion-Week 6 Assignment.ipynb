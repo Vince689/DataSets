{
 "cells": [
  {
   "cell_type": "markdown",
   "id": "a8a1edaf",
   "metadata": {},
   "source": [
    "In this workbook we will be performing data ingestion and validation for week 6 of Data Glacier's virtual internship."
   ]
  },
  {
   "cell_type": "markdown",
   "id": "c204a391",
   "metadata": {},
   "source": [
    "Summary of original file before modifications (note: changes were made to make it more manageable):\n",
    "~3285000 rows, 29 columns, 11.2GB. A fifth of this file was read in (so that performance was not a big issue) in various ways and converted to dataframes.\n",
    "\n",
    "Summary of dataframe after modifications (df_main): 447301 rows, 23 columns, 65.4MB in csv format.\n",
    "\n",
    "Summary of the small test file: 1000 rows, 23 columns, 102KB."
   ]
  },
  {
   "cell_type": "markdown",
   "id": "2db7215f",
   "metadata": {},
   "source": [
    "We tested various ways of reading in a fifth of the original 11.2GB file (with pandas, dask, modin with dask, modin with ray):"
   ]
  },
  {
   "cell_type": "code",
   "execution_count": 1,
   "id": "0b44303d",
   "metadata": {},
   "outputs": [],
   "source": [
    "import os\n",
    "path = 'D:/pydatafiles/airline-data'\n",
    "os.chdir(path)"
   ]
  },
  {
   "cell_type": "code",
   "execution_count": 2,
   "id": "0039e4ed",
   "metadata": {},
   "outputs": [],
   "source": [
    "import time \n",
    "import pandas as pd"
   ]
  },
  {
   "cell_type": "code",
   "execution_count": 3,
   "id": "e36b7ad5",
   "metadata": {},
   "outputs": [
    {
     "name": "stdout",
     "output_type": "stream",
     "text": [
      "3.0625 seconds\n"
     ]
    }
   ],
   "source": [
    "start_time = time.process_time()\n",
    "df_pd=pd.read_csv('airline.csv.shuffle', encoding='latin-1', nrows=657267)\n",
    "print(time.process_time() - start_time, \"seconds\")"
   ]
  },
  {
   "cell_type": "code",
   "execution_count": 4,
   "id": "d6af6c5d",
   "metadata": {},
   "outputs": [
    {
     "name": "stdout",
     "output_type": "stream",
     "text": [
      "11.203072734177113 GB\n"
     ]
    }
   ],
   "source": [
    "# The size of the file\n",
    "import os\n",
    "print(os.path.getsize('airline.csv.shuffle')/1024/1024/1024 , \"GB\")"
   ]
  },
  {
   "cell_type": "code",
   "execution_count": 5,
   "id": "a2aa9b7f",
   "metadata": {},
   "outputs": [
    {
     "data": {
      "text/html": [
       "<div>\n",
       "<style scoped>\n",
       "    .dataframe tbody tr th:only-of-type {\n",
       "        vertical-align: middle;\n",
       "    }\n",
       "\n",
       "    .dataframe tbody tr th {\n",
       "        vertical-align: top;\n",
       "    }\n",
       "\n",
       "    .dataframe thead th {\n",
       "        text-align: right;\n",
       "    }\n",
       "</style>\n",
       "<table border=\"1\" class=\"dataframe\">\n",
       "  <thead>\n",
       "    <tr style=\"text-align: right;\">\n",
       "      <th></th>\n",
       "      <th>ActualElapsedTime</th>\n",
       "      <th>AirTime</th>\n",
       "      <th>ArrDelay</th>\n",
       "      <th>ArrTime</th>\n",
       "      <th>CRSArrTime</th>\n",
       "      <th>CRSDepTime</th>\n",
       "      <th>CRSElapsedTime</th>\n",
       "      <th>CancellationCode</th>\n",
       "      <th>Cancelled</th>\n",
       "      <th>CarrierDelay</th>\n",
       "      <th>...</th>\n",
       "      <th>Month</th>\n",
       "      <th>NASDelay</th>\n",
       "      <th>Origin</th>\n",
       "      <th>SecurityDelay</th>\n",
       "      <th>TailNum</th>\n",
       "      <th>TaxiIn</th>\n",
       "      <th>TaxiOut</th>\n",
       "      <th>UniqueCarrier</th>\n",
       "      <th>WeatherDelay</th>\n",
       "      <th>Year</th>\n",
       "    </tr>\n",
       "  </thead>\n",
       "  <tbody>\n",
       "    <tr>\n",
       "      <th>0</th>\n",
       "      <td>53.0</td>\n",
       "      <td>32.0</td>\n",
       "      <td>-8.0</td>\n",
       "      <td>1642.0</td>\n",
       "      <td>1650</td>\n",
       "      <td>1545</td>\n",
       "      <td>65.0</td>\n",
       "      <td>NaN</td>\n",
       "      <td>0</td>\n",
       "      <td>NaN</td>\n",
       "      <td>...</td>\n",
       "      <td>10</td>\n",
       "      <td>NaN</td>\n",
       "      <td>DCA</td>\n",
       "      <td>NaN</td>\n",
       "      <td>N443US</td>\n",
       "      <td>7.0</td>\n",
       "      <td>14.0</td>\n",
       "      <td>US</td>\n",
       "      <td>NaN</td>\n",
       "      <td>2002</td>\n",
       "    </tr>\n",
       "    <tr>\n",
       "      <th>1</th>\n",
       "      <td>164.0</td>\n",
       "      <td>155.0</td>\n",
       "      <td>-11.0</td>\n",
       "      <td>1754.0</td>\n",
       "      <td>1805</td>\n",
       "      <td>1610</td>\n",
       "      <td>175.0</td>\n",
       "      <td>NaN</td>\n",
       "      <td>0</td>\n",
       "      <td>NaN</td>\n",
       "      <td>...</td>\n",
       "      <td>12</td>\n",
       "      <td>NaN</td>\n",
       "      <td>MCO</td>\n",
       "      <td>NaN</td>\n",
       "      <td>N755</td>\n",
       "      <td>2.0</td>\n",
       "      <td>7.0</td>\n",
       "      <td>WN</td>\n",
       "      <td>NaN</td>\n",
       "      <td>1999</td>\n",
       "    </tr>\n",
       "    <tr>\n",
       "      <th>2</th>\n",
       "      <td>60.0</td>\n",
       "      <td>NaN</td>\n",
       "      <td>15.0</td>\n",
       "      <td>2005.0</td>\n",
       "      <td>1950</td>\n",
       "      <td>1850</td>\n",
       "      <td>60.0</td>\n",
       "      <td>NaN</td>\n",
       "      <td>0</td>\n",
       "      <td>NaN</td>\n",
       "      <td>...</td>\n",
       "      <td>12</td>\n",
       "      <td>NaN</td>\n",
       "      <td>ATL</td>\n",
       "      <td>NaN</td>\n",
       "      <td>NaN</td>\n",
       "      <td>NaN</td>\n",
       "      <td>NaN</td>\n",
       "      <td>DL</td>\n",
       "      <td>NaN</td>\n",
       "      <td>1993</td>\n",
       "    </tr>\n",
       "    <tr>\n",
       "      <th>3</th>\n",
       "      <td>51.0</td>\n",
       "      <td>NaN</td>\n",
       "      <td>-5.0</td>\n",
       "      <td>1818.0</td>\n",
       "      <td>1823</td>\n",
       "      <td>1728</td>\n",
       "      <td>55.0</td>\n",
       "      <td>NaN</td>\n",
       "      <td>0</td>\n",
       "      <td>NaN</td>\n",
       "      <td>...</td>\n",
       "      <td>9</td>\n",
       "      <td>NaN</td>\n",
       "      <td>MEM</td>\n",
       "      <td>NaN</td>\n",
       "      <td>NaN</td>\n",
       "      <td>NaN</td>\n",
       "      <td>NaN</td>\n",
       "      <td>AA</td>\n",
       "      <td>NaN</td>\n",
       "      <td>1989</td>\n",
       "    </tr>\n",
       "    <tr>\n",
       "      <th>4</th>\n",
       "      <td>45.0</td>\n",
       "      <td>29.0</td>\n",
       "      <td>2.0</td>\n",
       "      <td>1120.0</td>\n",
       "      <td>1118</td>\n",
       "      <td>1030</td>\n",
       "      <td>48.0</td>\n",
       "      <td>NaN</td>\n",
       "      <td>0</td>\n",
       "      <td>0.0</td>\n",
       "      <td>...</td>\n",
       "      <td>6</td>\n",
       "      <td>0.0</td>\n",
       "      <td>CVG</td>\n",
       "      <td>0.0</td>\n",
       "      <td>N785CA</td>\n",
       "      <td>3.0</td>\n",
       "      <td>13.0</td>\n",
       "      <td>OH</td>\n",
       "      <td>0.0</td>\n",
       "      <td>2006</td>\n",
       "    </tr>\n",
       "  </tbody>\n",
       "</table>\n",
       "<p>5 rows × 29 columns</p>\n",
       "</div>"
      ],
      "text/plain": [
       "   ActualElapsedTime  AirTime  ArrDelay  ArrTime  CRSArrTime  CRSDepTime  \\\n",
       "0               53.0     32.0      -8.0   1642.0        1650        1545   \n",
       "1              164.0    155.0     -11.0   1754.0        1805        1610   \n",
       "2               60.0      NaN      15.0   2005.0        1950        1850   \n",
       "3               51.0      NaN      -5.0   1818.0        1823        1728   \n",
       "4               45.0     29.0       2.0   1120.0        1118        1030   \n",
       "\n",
       "   CRSElapsedTime CancellationCode  Cancelled  CarrierDelay  ...  Month  \\\n",
       "0            65.0              NaN          0           NaN  ...     10   \n",
       "1           175.0              NaN          0           NaN  ...     12   \n",
       "2            60.0              NaN          0           NaN  ...     12   \n",
       "3            55.0              NaN          0           NaN  ...      9   \n",
       "4            48.0              NaN          0           0.0  ...      6   \n",
       "\n",
       "   NASDelay  Origin  SecurityDelay TailNum  TaxiIn  TaxiOut  UniqueCarrier  \\\n",
       "0       NaN     DCA            NaN  N443US     7.0     14.0             US   \n",
       "1       NaN     MCO            NaN    N755     2.0      7.0             WN   \n",
       "2       NaN     ATL            NaN     NaN     NaN      NaN             DL   \n",
       "3       NaN     MEM            NaN     NaN     NaN      NaN             AA   \n",
       "4       0.0     CVG            0.0  N785CA     3.0     13.0             OH   \n",
       "\n",
       "   WeatherDelay  Year  \n",
       "0           NaN  2002  \n",
       "1           NaN  1999  \n",
       "2           NaN  1993  \n",
       "3           NaN  1989  \n",
       "4           0.0  2006  \n",
       "\n",
       "[5 rows x 29 columns]"
      ]
     },
     "execution_count": 5,
     "metadata": {},
     "output_type": "execute_result"
    }
   ],
   "source": [
    "df_pd.head()"
   ]
  },
  {
   "cell_type": "code",
   "execution_count": 7,
   "id": "ca78b3cf",
   "metadata": {},
   "outputs": [],
   "source": [
    "#!pip install dask"
   ]
  },
  {
   "cell_type": "code",
   "execution_count": 8,
   "id": "989cbfd2",
   "metadata": {},
   "outputs": [],
   "source": [
    "import dask.dataframe as dd"
   ]
  },
  {
   "cell_type": "code",
   "execution_count": 9,
   "id": "30f076ac",
   "metadata": {},
   "outputs": [
    {
     "name": "stdout",
     "output_type": "stream",
     "text": [
      "3.671875 seconds\n"
     ]
    }
   ],
   "source": [
    "start_time = time.process_time()\n",
    "df_dask=dd.read_csv('airline.csv.shuffle',encoding='latin-1',assume_missing=True).head(n=657267)\n",
    "#df_dask = df_dask.repartition()\n",
    "#df_dask_computed=df_dask.compute()\n",
    "print(time.process_time() - start_time, \"seconds\")"
   ]
  },
  {
   "cell_type": "code",
   "execution_count": 10,
   "id": "1f2269bd",
   "metadata": {},
   "outputs": [],
   "source": [
    "#conda install -c conda-forge modin"
   ]
  },
  {
   "cell_type": "code",
   "execution_count": 11,
   "id": "f65f953a",
   "metadata": {},
   "outputs": [],
   "source": [
    "#conda update pandas"
   ]
  },
  {
   "cell_type": "code",
   "execution_count": 12,
   "id": "e1b2445b",
   "metadata": {},
   "outputs": [],
   "source": [
    "import os\n",
    "os.environ[\"MODIN_ENGINE\"] = \"dask\"\n",
    "import modin.pandas as pd"
   ]
  },
  {
   "cell_type": "code",
   "execution_count": 13,
   "id": "bcce5091",
   "metadata": {},
   "outputs": [],
   "source": [
    "#!pip install modin"
   ]
  },
  {
   "cell_type": "code",
   "execution_count": 14,
   "id": "3580f653",
   "metadata": {
    "scrolled": true
   },
   "outputs": [
    {
     "name": "stdout",
     "output_type": "stream",
     "text": [
      "1.5625 seconds\n"
     ]
    },
    {
     "name": "stderr",
     "output_type": "stream",
     "text": [
      "UserWarning: `read_*` implementation has mismatches with pandas:\n",
      "Data types of partitions are different! Please refer to the troubleshooting section of the Modin documentation to fix this issue.\n"
     ]
    }
   ],
   "source": [
    "from dask.distributed import Client\n",
    "client = Client()\n",
    "start_time = time.process_time()\n",
    "df_modin_dask=pd.read_csv('airline.csv.shuffle',encoding='latin-1', nrows=657267)\n",
    "print(time.process_time() - start_time, \"seconds\")"
   ]
  },
  {
   "cell_type": "code",
   "execution_count": 15,
   "id": "7a30183d",
   "metadata": {},
   "outputs": [
    {
     "name": "stdout",
     "output_type": "stream",
     "text": [
      "1.125 seconds\n"
     ]
    }
   ],
   "source": [
    "os.environ[\"MODIN_ENGINE\"] = \"ray\"\n",
    "start_time = time.process_time()\n",
    "df_modin_ray=pd.read_csv('airline.csv.shuffle',encoding='latin-1', nrows=657267)\n",
    "print(time.process_time() - start_time, \"seconds\")"
   ]
  },
  {
   "cell_type": "markdown",
   "id": "d92afb05",
   "metadata": {},
   "source": [
    "From the above code, we found that modin with ray was the fastest method for reading the file."
   ]
  },
  {
   "cell_type": "markdown",
   "id": "b02b4429",
   "metadata": {},
   "source": [
    "Let's check how many missing values there are for each column:"
   ]
  },
  {
   "cell_type": "code",
   "execution_count": 16,
   "id": "eaa9a170",
   "metadata": {},
   "outputs": [
    {
     "data": {
      "text/plain": [
       "ActualElapsedTime     14043\n",
       "AirTime              209660\n",
       "ArrDelay              14043\n",
       "ArrTime               14025\n",
       "CRSArrTime                0\n",
       "CRSDepTime                0\n",
       "CRSElapsedTime          140\n",
       "CancellationCode     653375\n",
       "Cancelled                 0\n",
       "CarrierDelay         475876\n",
       "DayOfWeek                 0\n",
       "DayofMonth                0\n",
       "DepDelay              12513\n",
       "DepTime               12513\n",
       "Dest                      0\n",
       "Distance               1110\n",
       "Diverted                  0\n",
       "FlightNum                 0\n",
       "LateAircraftDelay    475876\n",
       "Month                     0\n",
       "NASDelay             475876\n",
       "Origin                    0\n",
       "SecurityDelay        475876\n",
       "TailNum              199470\n",
       "TaxiIn               199540\n",
       "TaxiOut              199471\n",
       "UniqueCarrier             0\n",
       "WeatherDelay         475876\n",
       "Year                      0\n",
       "dtype: int64"
      ]
     },
     "execution_count": 16,
     "metadata": {},
     "output_type": "execute_result"
    }
   ],
   "source": [
    "df_modin_ray.isnull().sum(axis = 0)"
   ]
  },
  {
   "cell_type": "markdown",
   "id": "2fda08a0",
   "metadata": {},
   "source": [
    "Since modin_ray was fastest, this is the main one we will be referring to."
   ]
  },
  {
   "cell_type": "markdown",
   "id": "f258919e",
   "metadata": {},
   "source": [
    "We manually performed some basic data cleaning to make it more manageable:"
   ]
  },
  {
   "cell_type": "code",
   "execution_count": 17,
   "id": "e9c83c61",
   "metadata": {},
   "outputs": [],
   "source": [
    "df_main=df_modin_ray"
   ]
  },
  {
   "cell_type": "code",
   "execution_count": 18,
   "id": "6f6eec65",
   "metadata": {},
   "outputs": [
    {
     "name": "stderr",
     "output_type": "stream",
     "text": [
      "UserWarning: `to_csv` defaulting to pandas implementation.\n",
      "To request implementation, send an email to feature_requests@modin.org.\n"
     ]
    }
   ],
   "source": [
    "df_main.to_csv('df_main.csv')"
   ]
  },
  {
   "cell_type": "code",
   "execution_count": 19,
   "id": "0fc6fcb3",
   "metadata": {},
   "outputs": [],
   "source": [
    "#I've removed columns with very high number of missing values (over 50%)\n",
    "del df_main['CancellationCode']\n",
    "del df_main['CarrierDelay']\n",
    "del df_main['LateAircraftDelay']\n",
    "del df_main['NASDelay']\n",
    "del df_main['SecurityDelay']\n",
    "del df_main['WeatherDelay']"
   ]
  },
  {
   "cell_type": "code",
   "execution_count": 20,
   "id": "e83dcaaf",
   "metadata": {},
   "outputs": [],
   "source": [
    "df_main.columns = df_main.columns.str.replace(' ', '')"
   ]
  },
  {
   "cell_type": "code",
   "execution_count": 21,
   "id": "390fafd2",
   "metadata": {},
   "outputs": [],
   "source": [
    "df_main.head()\n",
    "df_main=df_main.dropna()"
   ]
  },
  {
   "cell_type": "code",
   "execution_count": 22,
   "id": "a33b8c24",
   "metadata": {},
   "outputs": [],
   "source": [
    "df_main.columns=df_main.columns.str.lower()"
   ]
  },
  {
   "cell_type": "markdown",
   "id": "ead96014",
   "metadata": {},
   "source": [
    "The code in the following block is from https://github.com/DataGlacier/DSVIICODE/tree/main , it helps us ensure that any data ingested follows the conventions of the YAML file (which will be created in the following section) and also performs some validation and preprocessing "
   ]
  },
  {
   "cell_type": "code",
   "execution_count": 23,
   "id": "d67789e3",
   "metadata": {},
   "outputs": [
    {
     "name": "stdout",
     "output_type": "stream",
     "text": [
      "Overwriting testutility.py\n"
     ]
    }
   ],
   "source": [
    "%%writefile testutility.py\n",
    "import logging\n",
    "import os\n",
    "import subprocess\n",
    "import yaml\n",
    "import pandas as pd\n",
    "import datetime \n",
    "import gc\n",
    "import re\n",
    "\n",
    "\n",
    "def read_config_file(filepath):\n",
    "    with open(filepath, 'r') as stream:\n",
    "        try:\n",
    "            return yaml.safe_load(stream)\n",
    "        except yaml.YAMLError as exc:\n",
    "            logging.error(exc)\n",
    "\n",
    "def replacer(string, char):\n",
    "    pattern = char + '{2,}'\n",
    "    string = re.sub(pattern, char, string) \n",
    "    return string\n",
    "\n",
    "def col_header_val(df,table_config):\n",
    "    '''\n",
    "    replace whitespaces in the column\n",
    "    and standardized column names\n",
    "    '''\n",
    "    df.columns = df.columns.str.lower()\n",
    "#    df.dropna(axis='rows') #drop rows with missing values\n",
    "#    df.columns = df.columns.str.replace(' ', '') #remove spaces\n",
    "    df.columns = df.columns.str.replace('[^\\w]','_',regex=True)\n",
    "    df.columns = list(map(lambda x: x.strip('_'), list(df.columns)))\n",
    "    df.columns = list(map(lambda x: replacer(x,'_'), list(df.columns)))\n",
    "    expected_col = list(map(lambda x: x.lower(),  table_config['columns']))\n",
    "    expected_col.sort()\n",
    "    df.columns =list(map(lambda x: x.lower(), list(df.columns)))\n",
    "    df = df.reindex(sorted(df.columns), axis=1)\n",
    "    if len(df.columns) == len(expected_col) and list(expected_col)  == list(df.columns):\n",
    "        print(\"column name and column length validation passed\")\n",
    "        return 1\n",
    "    else:\n",
    "        print(\"column name and column length validation failed\")\n",
    "        mismatched_columns_file = list(set(df.columns).difference(expected_col))\n",
    "        print(\"Following File columns are not in the YAML file\",mismatched_columns_file)\n",
    "        missing_YAML_file = list(set(expected_col).difference(df.columns))\n",
    "        print(\"Following YAML columns are not in the file uploaded\",missing_YAML_file)\n",
    "        logging.info(f'df columns: {df.columns}')\n",
    "        logging.info(f'expected columns: {expected_col}')\n",
    "        return 0"
   ]
  },
  {
   "cell_type": "markdown",
   "id": "c582f5ec",
   "metadata": {},
   "source": [
    "Let's get the columns names line by line, this will be used to create the YAML file:"
   ]
  },
  {
   "cell_type": "code",
   "execution_count": 24,
   "id": "6a0587b0",
   "metadata": {},
   "outputs": [
    {
     "name": "stdout",
     "output_type": "stream",
     "text": [
      " - actualelapsedtime\n",
      " - airtime\n",
      " - arrdelay\n",
      " - arrtime\n",
      " - crsarrtime\n",
      " - crsdeptime\n",
      " - crselapsedtime\n",
      " - cancelled\n",
      " - dayofweek\n",
      " - dayofmonth\n",
      " - depdelay\n",
      " - deptime\n",
      " - dest\n",
      " - distance\n",
      " - diverted\n",
      " - flightnum\n",
      " - month\n",
      " - origin\n",
      " - tailnum\n",
      " - taxiin\n",
      " - taxiout\n",
      " - uniquecarrier\n",
      " - year\n"
     ]
    }
   ],
   "source": [
    "for col in df_main.columns:\n",
    "    print(\" - \"+col.lower())"
   ]
  },
  {
   "cell_type": "markdown",
   "id": "2d66654a",
   "metadata": {},
   "source": [
    "Let's create the YAML file:"
   ]
  },
  {
   "cell_type": "code",
   "execution_count": 25,
   "id": "5c7b4eb2",
   "metadata": {},
   "outputs": [
    {
     "name": "stdout",
     "output_type": "stream",
     "text": [
      "Overwriting file.yaml\n"
     ]
    }
   ],
   "source": [
    "%%writefile file.yaml\n",
    "file_type: csv\n",
    "dataset_name: testfile\n",
    "file_name: test_data\n",
    "table_name: edsurv\n",
    "inbound_delimiter: ','\n",
    "outbound_delimiter: '|'\n",
    "skip_leading_rows: 0\n",
    "columns:\n",
    "    - actualelapsedtime\n",
    "    - airtime\n",
    "    - arrdelay\n",
    "    - arrtime\n",
    "    - crsarrtime\n",
    "    - crsdeptime\n",
    "    - crselapsedtime\n",
    "    - cancelled\n",
    "    - dayofweek\n",
    "    - dayofmonth\n",
    "    - depdelay\n",
    "    - deptime\n",
    "    - dest\n",
    "    - distance\n",
    "    - diverted\n",
    "    - flightnum\n",
    "    - month\n",
    "    - origin\n",
    "    - tailnum\n",
    "    - taxiin\n",
    "    - taxiout\n",
    "    - uniquecarrier\n",
    "    - year"
   ]
  },
  {
   "cell_type": "markdown",
   "id": "aa04d2b8",
   "metadata": {},
   "source": [
    "Let's read the config file:"
   ]
  },
  {
   "cell_type": "code",
   "execution_count": 26,
   "id": "53afce60",
   "metadata": {},
   "outputs": [],
   "source": [
    "import testutility as util\n",
    "config_data = util.read_config_file(\"file.yaml\")"
   ]
  },
  {
   "cell_type": "markdown",
   "id": "84d2a760",
   "metadata": {},
   "source": [
    "Let's make sure the data from the config file is correct:"
   ]
  },
  {
   "cell_type": "code",
   "execution_count": 27,
   "id": "2fcfe832",
   "metadata": {},
   "outputs": [
    {
     "data": {
      "text/plain": [
       "{'file_type': 'csv',\n",
       " 'dataset_name': 'testfile',\n",
       " 'file_name': 'test_data',\n",
       " 'table_name': 'edsurv',\n",
       " 'inbound_delimiter': ',',\n",
       " 'outbound_delimiter': '|',\n",
       " 'skip_leading_rows': 0,\n",
       " 'columns': ['actualelapsedtime',\n",
       "  'airtime',\n",
       "  'arrdelay',\n",
       "  'arrtime',\n",
       "  'crsarrtime',\n",
       "  'crsdeptime',\n",
       "  'crselapsedtime',\n",
       "  'cancelled',\n",
       "  'dayofweek',\n",
       "  'dayofmonth',\n",
       "  'depdelay',\n",
       "  'deptime',\n",
       "  'dest',\n",
       "  'distance',\n",
       "  'diverted',\n",
       "  'flightnum',\n",
       "  'month',\n",
       "  'origin',\n",
       "  'tailnum',\n",
       "  'taxiin',\n",
       "  'taxiout',\n",
       "  'uniquecarrier',\n",
       "  'year']}"
      ]
     },
     "execution_count": 27,
     "metadata": {},
     "output_type": "execute_result"
    }
   ],
   "source": [
    "config_data"
   ]
  },
  {
   "cell_type": "markdown",
   "id": "7dfd5277",
   "metadata": {},
   "source": [
    "Let's read the small test file with modin and ray:"
   ]
  },
  {
   "cell_type": "code",
   "execution_count": 28,
   "id": "6e83e3d0",
   "metadata": {},
   "outputs": [],
   "source": [
    "os.environ[\"MODIN_ENGINE\"] = \"ray\"\n",
    "#client = Client()\n",
    "df_sample=pd.read_csv('test_data.csv', delimiter=',', encoding='latin-1')\n"
   ]
  },
  {
   "cell_type": "markdown",
   "id": "8b3b153a",
   "metadata": {},
   "source": [
    "Now let's read the test file using the config file and modin and ray:"
   ]
  },
  {
   "cell_type": "code",
   "execution_count": 29,
   "id": "f2e657e6",
   "metadata": {},
   "outputs": [
    {
     "data": {
      "text/html": [
       "<div>\n",
       "<style scoped>\n",
       "    .dataframe tbody tr th:only-of-type {\n",
       "        vertical-align: middle;\n",
       "    }\n",
       "\n",
       "    .dataframe tbody tr th {\n",
       "        vertical-align: top;\n",
       "    }\n",
       "\n",
       "    .dataframe thead th {\n",
       "        text-align: right;\n",
       "    }\n",
       "</style>\n",
       "<table border=\"1\" class=\"dataframe\">\n",
       "  <thead>\n",
       "    <tr style=\"text-align: right;\">\n",
       "      <th></th>\n",
       "      <th>actualelapsedtime</th>\n",
       "      <th>airtime</th>\n",
       "      <th>arrdelay</th>\n",
       "      <th>arrtime</th>\n",
       "      <th>crsarrtime</th>\n",
       "      <th>crsdeptime</th>\n",
       "      <th>crselapsedtime</th>\n",
       "      <th>cancelled</th>\n",
       "      <th>dayofweek</th>\n",
       "      <th>dayofmonth</th>\n",
       "      <th>...</th>\n",
       "      <th>distance</th>\n",
       "      <th>diverted</th>\n",
       "      <th>flightnum</th>\n",
       "      <th>month</th>\n",
       "      <th>origin</th>\n",
       "      <th>tailnum</th>\n",
       "      <th>taxiin</th>\n",
       "      <th>taxiout</th>\n",
       "      <th>uniquecarrier</th>\n",
       "      <th>year</th>\n",
       "    </tr>\n",
       "  </thead>\n",
       "  <tbody>\n",
       "    <tr>\n",
       "      <th>0</th>\n",
       "      <td>53</td>\n",
       "      <td>32</td>\n",
       "      <td>-8</td>\n",
       "      <td>1642</td>\n",
       "      <td>1650</td>\n",
       "      <td>1545</td>\n",
       "      <td>65</td>\n",
       "      <td>0</td>\n",
       "      <td>4</td>\n",
       "      <td>10</td>\n",
       "      <td>...</td>\n",
       "      <td>205</td>\n",
       "      <td>0</td>\n",
       "      <td>209</td>\n",
       "      <td>10</td>\n",
       "      <td>DCA</td>\n",
       "      <td>N443US</td>\n",
       "      <td>7</td>\n",
       "      <td>14</td>\n",
       "      <td>US</td>\n",
       "      <td>2002</td>\n",
       "    </tr>\n",
       "    <tr>\n",
       "      <th>1</th>\n",
       "      <td>164</td>\n",
       "      <td>155</td>\n",
       "      <td>-11</td>\n",
       "      <td>1754</td>\n",
       "      <td>1805</td>\n",
       "      <td>1610</td>\n",
       "      <td>175</td>\n",
       "      <td>0</td>\n",
       "      <td>4</td>\n",
       "      <td>2</td>\n",
       "      <td>...</td>\n",
       "      <td>1072</td>\n",
       "      <td>0</td>\n",
       "      <td>109</td>\n",
       "      <td>12</td>\n",
       "      <td>MCO</td>\n",
       "      <td>N755</td>\n",
       "      <td>2</td>\n",
       "      <td>7</td>\n",
       "      <td>WN</td>\n",
       "      <td>1999</td>\n",
       "    </tr>\n",
       "    <tr>\n",
       "      <th>2</th>\n",
       "      <td>45</td>\n",
       "      <td>29</td>\n",
       "      <td>2</td>\n",
       "      <td>1120</td>\n",
       "      <td>1118</td>\n",
       "      <td>1030</td>\n",
       "      <td>48</td>\n",
       "      <td>0</td>\n",
       "      <td>1</td>\n",
       "      <td>19</td>\n",
       "      <td>...</td>\n",
       "      <td>116</td>\n",
       "      <td>0</td>\n",
       "      <td>5873</td>\n",
       "      <td>6</td>\n",
       "      <td>CVG</td>\n",
       "      <td>N785CA</td>\n",
       "      <td>3</td>\n",
       "      <td>13</td>\n",
       "      <td>OH</td>\n",
       "      <td>2006</td>\n",
       "    </tr>\n",
       "    <tr>\n",
       "      <th>3</th>\n",
       "      <td>49</td>\n",
       "      <td>37</td>\n",
       "      <td>2</td>\n",
       "      <td>1137</td>\n",
       "      <td>1135</td>\n",
       "      <td>1048</td>\n",
       "      <td>47</td>\n",
       "      <td>0</td>\n",
       "      <td>4</td>\n",
       "      <td>2</td>\n",
       "      <td>...</td>\n",
       "      <td>156</td>\n",
       "      <td>0</td>\n",
       "      <td>353</td>\n",
       "      <td>1</td>\n",
       "      <td>MYR</td>\n",
       "      <td>N934VJ</td>\n",
       "      <td>6</td>\n",
       "      <td>6</td>\n",
       "      <td>US</td>\n",
       "      <td>1997</td>\n",
       "    </tr>\n",
       "    <tr>\n",
       "      <th>4</th>\n",
       "      <td>61</td>\n",
       "      <td>40</td>\n",
       "      <td>-3</td>\n",
       "      <td>1537</td>\n",
       "      <td>1540</td>\n",
       "      <td>1440</td>\n",
       "      <td>60</td>\n",
       "      <td>0</td>\n",
       "      <td>7</td>\n",
       "      <td>20</td>\n",
       "      <td>...</td>\n",
       "      <td>140</td>\n",
       "      <td>0</td>\n",
       "      <td>3281</td>\n",
       "      <td>7</td>\n",
       "      <td>DFW</td>\n",
       "      <td>N286AE</td>\n",
       "      <td>7</td>\n",
       "      <td>14</td>\n",
       "      <td>MQ</td>\n",
       "      <td>2008</td>\n",
       "    </tr>\n",
       "  </tbody>\n",
       "</table>\n",
       "<p>5 rows x 23 columns</p>\n",
       "</div>"
      ],
      "text/plain": [
       "   actualelapsedtime  airtime  arrdelay  arrtime  crsarrtime  crsdeptime  \\\n",
       "0                 53       32        -8     1642        1650        1545   \n",
       "1                164      155       -11     1754        1805        1610   \n",
       "2                 45       29         2     1120        1118        1030   \n",
       "3                 49       37         2     1137        1135        1048   \n",
       "4                 61       40        -3     1537        1540        1440   \n",
       "\n",
       "   crselapsedtime  cancelled  dayofweek  dayofmonth  ...  distance diverted  \\\n",
       "0              65          0          4          10  ...       205        0   \n",
       "1             175          0          4           2  ...      1072        0   \n",
       "2              48          0          1          19  ...       116        0   \n",
       "3              47          0          4           2  ...       156        0   \n",
       "4              60          0          7          20  ...       140        0   \n",
       "\n",
       "   flightnum  month  origin  tailnum taxiin taxiout  uniquecarrier  year  \n",
       "0        209     10     DCA   N443US      7      14             US  2002  \n",
       "1        109     12     MCO     N755      2       7             WN  1999  \n",
       "2       5873      6     CVG   N785CA      3      13             OH  2006  \n",
       "3        353      1     MYR   N934VJ      6       6             US  1997  \n",
       "4       3281      7     DFW   N286AE      7      14             MQ  2008  \n",
       "\n",
       "[5 rows x 23 columns]"
      ]
     },
     "execution_count": 29,
     "metadata": {},
     "output_type": "execute_result"
    }
   ],
   "source": [
    "file_type = config_data['file_type']\n",
    "source_file = \"./\" + config_data['file_name'] + f'.{file_type}'\n",
    "df = pd.read_csv(source_file,config_data['inbound_delimiter'])\n",
    "df.reset_index(drop=True, inplace=True)\n",
    "df.head()"
   ]
  },
  {
   "cell_type": "markdown",
   "id": "d5781f73",
   "metadata": {},
   "source": [
    "Make sure the column names and number of columns are the same for df and the config_data:"
   ]
  },
  {
   "cell_type": "code",
   "execution_count": 30,
   "id": "8b61aea2",
   "metadata": {},
   "outputs": [
    {
     "name": "stdout",
     "output_type": "stream",
     "text": [
      "column name and column length validation passed\n"
     ]
    },
    {
     "data": {
      "text/plain": [
       "1"
      ]
     },
     "execution_count": 30,
     "metadata": {},
     "output_type": "execute_result"
    }
   ],
   "source": [
    "util.col_header_val(df,config_data)"
   ]
  },
  {
   "cell_type": "markdown",
   "id": "f236dfcd",
   "metadata": {},
   "source": [
    "Display the column names for df and YAML:"
   ]
  },
  {
   "cell_type": "code",
   "execution_count": 31,
   "id": "acf30cb3",
   "metadata": {
    "scrolled": true
   },
   "outputs": [
    {
     "name": "stdout",
     "output_type": "stream",
     "text": [
      "columns of files are: Index(['actualelapsedtime', 'airtime', 'arrdelay', 'arrtime', 'crsarrtime',\n",
      "       'crsdeptime', 'crselapsedtime', 'cancelled', 'dayofweek', 'dayofmonth',\n",
      "       'depdelay', 'deptime', 'dest', 'distance', 'diverted', 'flightnum',\n",
      "       'month', 'origin', 'tailnum', 'taxiin', 'taxiout', 'uniquecarrier',\n",
      "       'year'],\n",
      "      dtype='object')\n",
      "columns of YAML are: ['actualelapsedtime', 'airtime', 'arrdelay', 'arrtime', 'crsarrtime', 'crsdeptime', 'crselapsedtime', 'cancelled', 'dayofweek', 'dayofmonth', 'depdelay', 'deptime', 'dest', 'distance', 'diverted', 'flightnum', 'month', 'origin', 'tailnum', 'taxiin', 'taxiout', 'uniquecarrier', 'year']\n"
     ]
    }
   ],
   "source": [
    "print(\"columns of files are:\" ,df.columns)\n",
    "print(\"columns of YAML are:\" ,config_data['columns'])"
   ]
  },
  {
   "cell_type": "markdown",
   "id": "924f36eb",
   "metadata": {},
   "source": [
    "Print text depending on whether or not the tests are passed:"
   ]
  },
  {
   "cell_type": "code",
   "execution_count": 32,
   "id": "568c9299",
   "metadata": {},
   "outputs": [
    {
     "name": "stdout",
     "output_type": "stream",
     "text": [
      "column name and column length validation passed\n",
      "col validation passed\n"
     ]
    }
   ],
   "source": [
    "if util.col_header_val(df,config_data)==0:\n",
    "    print(\"validation failed\")\n",
    "    # write code to reject the file\n",
    "else:\n",
    "    print(\"col validation passed\")\n",
    "    # write the code to perform further action\n",
    "    # in the pipleine"
   ]
  },
  {
   "cell_type": "markdown",
   "id": "703c3cdf",
   "metadata": {},
   "source": [
    "Let's test the larger dataframe now:"
   ]
  },
  {
   "cell_type": "code",
   "execution_count": 33,
   "id": "ff793df4",
   "metadata": {},
   "outputs": [
    {
     "name": "stdout",
     "output_type": "stream",
     "text": [
      "column name and column length validation passed\n"
     ]
    },
    {
     "data": {
      "text/plain": [
       "1"
      ]
     },
     "execution_count": 33,
     "metadata": {},
     "output_type": "execute_result"
    }
   ],
   "source": [
    "util.col_header_val(df_main,config_data)"
   ]
  },
  {
   "cell_type": "markdown",
   "id": "8e45122f",
   "metadata": {},
   "source": [
    "Validations have passed and the code is working as intended."
   ]
  },
  {
   "cell_type": "code",
   "execution_count": null,
   "id": "3965532b",
   "metadata": {},
   "outputs": [],
   "source": []
  }
 ],
 "metadata": {
  "kernelspec": {
   "display_name": "Python 3 (ipykernel)",
   "language": "python",
   "name": "python3"
  },
  "language_info": {
   "codemirror_mode": {
    "name": "ipython",
    "version": 3
   },
   "file_extension": ".py",
   "mimetype": "text/x-python",
   "name": "python",
   "nbconvert_exporter": "python",
   "pygments_lexer": "ipython3",
   "version": "3.9.7"
  }
 },
 "nbformat": 4,
 "nbformat_minor": 5
}
